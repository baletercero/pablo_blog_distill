{
 "cells": [
  {
   "cell_type": "markdown",
   "metadata": {
    "hideCode": false,
    "hidePrompt": false
   },
   "source": [
    "# Census forecasts using Orbit "
   ]
  },
  {
   "cell_type": "markdown",
   "metadata": {
    "hideCode": false,
    "hidePrompt": false
   },
   "source": [
    "This notebook walks through the exercise of fitting an orbit model - Damped Linear Trend Bayesian probabilistic model\n",
    "on the census data provided at https://www.census.gov/construction/nrc/historical_data/index.html"
   ]
  },
  {
   "cell_type": "markdown",
   "metadata": {
    "hideCode": false,
    "hidePrompt": false
   },
   "source": [
    "Orbit is a Python package for Bayesian forecasting models developed under object-oriented design. It provides a familiar and intuitive initialize-fit-predict interface for working with time series tasks, while utilizing probabilistic modeling api under the hood.\n",
    "For more info : https://github.com/uber/orbit , including installation instructions. First one will need to install PyStan , a library to leverage Stan for Bayesian stats @ https://pystan.readthedocs.io/en/latest/windows.html"
   ]
  },
  {
   "cell_type": "markdown",
   "metadata": {
    "hideCode": false,
    "hidePrompt": false
   },
   "source": [
    "### Install necessary libraries"
   ]
  },
  {
   "cell_type": "code",
   "execution_count": 1,
   "metadata": {
    "hideCode": false,
    "hidePrompt": false
   },
   "outputs": [],
   "source": [
    "import pandas as pd\n",
    "import numpy as np\n",
    "import matplotlib.pyplot as plt\n",
    "import seaborn as sns"
   ]
  },
  {
   "cell_type": "code",
   "execution_count": 2,
   "metadata": {
    "hideCode": false,
    "hidePrompt": false
   },
   "outputs": [],
   "source": [
    "from orbit.utils.dataset import load_iclaims"
   ]
  },
  {
   "cell_type": "markdown",
   "metadata": {
    "hideCode": false,
    "hidePrompt": false
   },
   "source": [
    "### Load the data"
   ]
  },
  {
   "cell_type": "code",
   "execution_count": 3,
   "metadata": {
    "hideCode": false,
    "hidePrompt": false
   },
   "outputs": [],
   "source": [
    "permits_raw = pd.read_excel('data/permits_cust.xls',sheet_name='PermitsUA', usecols = 'B:N',skiprows=9,header=None,nrows=743,\n",
    "                           na_values='(NA)',parse_dates=[0])\n",
    "permits_raw.columns = ['date','total','total_1unit','total_2to4units','total_5+units','ne_total','ne_1unit',\n",
    "                      'mw_total','mw_1unit','south_total','south_1unit','west_total','west_1unit']"
   ]
  },
  {
   "cell_type": "markdown",
   "metadata": {
    "hideCode": false,
    "hidePrompt": false
   },
   "source": [
    "### Exploratory Data Analysis"
   ]
  },
  {
   "cell_type": "code",
   "execution_count": 4,
   "metadata": {
    "hideCode": false,
    "hidePrompt": false
   },
   "outputs": [
    {
     "data": {
      "text/html": [
       "<div>\n",
       "<style scoped>\n",
       "    .dataframe tbody tr th:only-of-type {\n",
       "        vertical-align: middle;\n",
       "    }\n",
       "\n",
       "    .dataframe tbody tr th {\n",
       "        vertical-align: top;\n",
       "    }\n",
       "\n",
       "    .dataframe thead th {\n",
       "        text-align: right;\n",
       "    }\n",
       "</style>\n",
       "<table border=\"1\" class=\"dataframe\">\n",
       "  <thead>\n",
       "    <tr style=\"text-align: right;\">\n",
       "      <th></th>\n",
       "      <th>date</th>\n",
       "      <th>total</th>\n",
       "      <th>total_1unit</th>\n",
       "      <th>total_2to4units</th>\n",
       "      <th>total_5+units</th>\n",
       "      <th>ne_total</th>\n",
       "      <th>ne_1unit</th>\n",
       "      <th>mw_total</th>\n",
       "      <th>mw_1unit</th>\n",
       "      <th>south_total</th>\n",
       "      <th>south_1unit</th>\n",
       "      <th>west_total</th>\n",
       "      <th>west_1unit</th>\n",
       "    </tr>\n",
       "  </thead>\n",
       "  <tbody>\n",
       "    <tr>\n",
       "      <th>738</th>\n",
       "      <td>2020-07-01</td>\n",
       "      <td>135.4</td>\n",
       "      <td>92.1</td>\n",
       "      <td>4.2</td>\n",
       "      <td>39.1</td>\n",
       "      <td>12.7</td>\n",
       "      <td>5.7</td>\n",
       "      <td>21.3</td>\n",
       "      <td>13.4</td>\n",
       "      <td>68.7</td>\n",
       "      <td>51.4</td>\n",
       "      <td>32.6</td>\n",
       "      <td>21.6</td>\n",
       "    </tr>\n",
       "    <tr>\n",
       "      <th>739</th>\n",
       "      <td>2020-08-01</td>\n",
       "      <td>126.2</td>\n",
       "      <td>89.9</td>\n",
       "      <td>4.6</td>\n",
       "      <td>31.7</td>\n",
       "      <td>9.9</td>\n",
       "      <td>5.2</td>\n",
       "      <td>17.6</td>\n",
       "      <td>12.6</td>\n",
       "      <td>68.4</td>\n",
       "      <td>51.1</td>\n",
       "      <td>30.3</td>\n",
       "      <td>21.0</td>\n",
       "    </tr>\n",
       "    <tr>\n",
       "      <th>740</th>\n",
       "      <td>2020-09-01</td>\n",
       "      <td>133.3</td>\n",
       "      <td>94.7</td>\n",
       "      <td>3.9</td>\n",
       "      <td>34.7</td>\n",
       "      <td>13.2</td>\n",
       "      <td>6.4</td>\n",
       "      <td>19.9</td>\n",
       "      <td>14.0</td>\n",
       "      <td>69.0</td>\n",
       "      <td>52.0</td>\n",
       "      <td>31.2</td>\n",
       "      <td>22.3</td>\n",
       "    </tr>\n",
       "    <tr>\n",
       "      <th>741</th>\n",
       "      <td>2020-10-01</td>\n",
       "      <td>132.9</td>\n",
       "      <td>95.3</td>\n",
       "      <td>5.2</td>\n",
       "      <td>32.5</td>\n",
       "      <td>11.5</td>\n",
       "      <td>5.5</td>\n",
       "      <td>21.1</td>\n",
       "      <td>13.8</td>\n",
       "      <td>68.7</td>\n",
       "      <td>53.5</td>\n",
       "      <td>31.7</td>\n",
       "      <td>22.6</td>\n",
       "    </tr>\n",
       "    <tr>\n",
       "      <th>742</th>\n",
       "      <td>2020-11-01</td>\n",
       "      <td>120.2</td>\n",
       "      <td>80.0</td>\n",
       "      <td>4.1</td>\n",
       "      <td>36.2</td>\n",
       "      <td>12.2</td>\n",
       "      <td>5.2</td>\n",
       "      <td>16.6</td>\n",
       "      <td>10.3</td>\n",
       "      <td>61.5</td>\n",
       "      <td>45.4</td>\n",
       "      <td>29.9</td>\n",
       "      <td>19.1</td>\n",
       "    </tr>\n",
       "  </tbody>\n",
       "</table>\n",
       "</div>"
      ],
      "text/plain": [
       "          date  total  total_1unit  total_2to4units  total_5+units  ne_total  \\\n",
       "738 2020-07-01  135.4         92.1              4.2           39.1      12.7   \n",
       "739 2020-08-01  126.2         89.9              4.6           31.7       9.9   \n",
       "740 2020-09-01  133.3         94.7              3.9           34.7      13.2   \n",
       "741 2020-10-01  132.9         95.3              5.2           32.5      11.5   \n",
       "742 2020-11-01  120.2         80.0              4.1           36.2      12.2   \n",
       "\n",
       "     ne_1unit  mw_total  mw_1unit  south_total  south_1unit  west_total  \\\n",
       "738       5.7      21.3      13.4         68.7         51.4        32.6   \n",
       "739       5.2      17.6      12.6         68.4         51.1        30.3   \n",
       "740       6.4      19.9      14.0         69.0         52.0        31.2   \n",
       "741       5.5      21.1      13.8         68.7         53.5        31.7   \n",
       "742       5.2      16.6      10.3         61.5         45.4        29.9   \n",
       "\n",
       "     west_1unit  \n",
       "738        21.6  \n",
       "739        21.0  \n",
       "740        22.3  \n",
       "741        22.6  \n",
       "742        19.1  "
      ]
     },
     "execution_count": 4,
     "metadata": {},
     "output_type": "execute_result"
    }
   ],
   "source": [
    "permits_raw.tail()"
   ]
  },
  {
   "cell_type": "code",
   "execution_count": 5,
   "metadata": {
    "hideCode": false,
    "hidePrompt": false
   },
   "outputs": [
    {
     "data": {
      "text/html": [
       "<div>\n",
       "<style scoped>\n",
       "    .dataframe tbody tr th:only-of-type {\n",
       "        vertical-align: middle;\n",
       "    }\n",
       "\n",
       "    .dataframe tbody tr th {\n",
       "        vertical-align: top;\n",
       "    }\n",
       "\n",
       "    .dataframe thead th {\n",
       "        text-align: right;\n",
       "    }\n",
       "</style>\n",
       "<table border=\"1\" class=\"dataframe\">\n",
       "  <thead>\n",
       "    <tr style=\"text-align: right;\">\n",
       "      <th></th>\n",
       "      <th>date</th>\n",
       "      <th>total</th>\n",
       "      <th>total_1unit</th>\n",
       "      <th>total_2to4units</th>\n",
       "      <th>total_5+units</th>\n",
       "      <th>ne_total</th>\n",
       "      <th>ne_1unit</th>\n",
       "      <th>mw_total</th>\n",
       "      <th>mw_1unit</th>\n",
       "      <th>south_total</th>\n",
       "      <th>south_1unit</th>\n",
       "      <th>west_total</th>\n",
       "      <th>west_1unit</th>\n",
       "    </tr>\n",
       "  </thead>\n",
       "  <tbody>\n",
       "    <tr>\n",
       "      <th>0</th>\n",
       "      <td>1959-01-01</td>\n",
       "      <td>75.7</td>\n",
       "      <td>55.7</td>\n",
       "      <td>5.2</td>\n",
       "      <td>14.8</td>\n",
       "      <td>11.4</td>\n",
       "      <td>NaN</td>\n",
       "      <td>11.8</td>\n",
       "      <td>NaN</td>\n",
       "      <td>26.8</td>\n",
       "      <td>NaN</td>\n",
       "      <td>25.6</td>\n",
       "      <td>NaN</td>\n",
       "    </tr>\n",
       "    <tr>\n",
       "      <th>1</th>\n",
       "      <td>1959-02-01</td>\n",
       "      <td>79.0</td>\n",
       "      <td>59.9</td>\n",
       "      <td>5.2</td>\n",
       "      <td>13.9</td>\n",
       "      <td>13.2</td>\n",
       "      <td>NaN</td>\n",
       "      <td>12.7</td>\n",
       "      <td>NaN</td>\n",
       "      <td>29.4</td>\n",
       "      <td>NaN</td>\n",
       "      <td>23.8</td>\n",
       "      <td>NaN</td>\n",
       "    </tr>\n",
       "    <tr>\n",
       "      <th>2</th>\n",
       "      <td>1959-03-01</td>\n",
       "      <td>119.0</td>\n",
       "      <td>91.3</td>\n",
       "      <td>8.4</td>\n",
       "      <td>19.3</td>\n",
       "      <td>22.4</td>\n",
       "      <td>NaN</td>\n",
       "      <td>25.9</td>\n",
       "      <td>NaN</td>\n",
       "      <td>34.8</td>\n",
       "      <td>NaN</td>\n",
       "      <td>35.8</td>\n",
       "      <td>NaN</td>\n",
       "    </tr>\n",
       "    <tr>\n",
       "      <th>3</th>\n",
       "      <td>1959-04-01</td>\n",
       "      <td>127.9</td>\n",
       "      <td>99.7</td>\n",
       "      <td>8.0</td>\n",
       "      <td>20.2</td>\n",
       "      <td>23.4</td>\n",
       "      <td>NaN</td>\n",
       "      <td>34.7</td>\n",
       "      <td>NaN</td>\n",
       "      <td>36.0</td>\n",
       "      <td>NaN</td>\n",
       "      <td>33.8</td>\n",
       "      <td>NaN</td>\n",
       "    </tr>\n",
       "    <tr>\n",
       "      <th>4</th>\n",
       "      <td>1959-05-01</td>\n",
       "      <td>120.8</td>\n",
       "      <td>93.5</td>\n",
       "      <td>7.5</td>\n",
       "      <td>19.7</td>\n",
       "      <td>23.0</td>\n",
       "      <td>NaN</td>\n",
       "      <td>30.0</td>\n",
       "      <td>NaN</td>\n",
       "      <td>32.3</td>\n",
       "      <td>NaN</td>\n",
       "      <td>35.4</td>\n",
       "      <td>NaN</td>\n",
       "    </tr>\n",
       "  </tbody>\n",
       "</table>\n",
       "</div>"
      ],
      "text/plain": [
       "        date  total  total_1unit  total_2to4units  total_5+units  ne_total  \\\n",
       "0 1959-01-01   75.7         55.7              5.2           14.8      11.4   \n",
       "1 1959-02-01   79.0         59.9              5.2           13.9      13.2   \n",
       "2 1959-03-01  119.0         91.3              8.4           19.3      22.4   \n",
       "3 1959-04-01  127.9         99.7              8.0           20.2      23.4   \n",
       "4 1959-05-01  120.8         93.5              7.5           19.7      23.0   \n",
       "\n",
       "   ne_1unit  mw_total  mw_1unit  south_total  south_1unit  west_total  \\\n",
       "0       NaN      11.8       NaN         26.8          NaN        25.6   \n",
       "1       NaN      12.7       NaN         29.4          NaN        23.8   \n",
       "2       NaN      25.9       NaN         34.8          NaN        35.8   \n",
       "3       NaN      34.7       NaN         36.0          NaN        33.8   \n",
       "4       NaN      30.0       NaN         32.3          NaN        35.4   \n",
       "\n",
       "   west_1unit  \n",
       "0         NaN  \n",
       "1         NaN  \n",
       "2         NaN  \n",
       "3         NaN  \n",
       "4         NaN  "
      ]
     },
     "execution_count": 5,
     "metadata": {},
     "output_type": "execute_result"
    }
   ],
   "source": [
    "permits_raw.head()"
   ]
  },
  {
   "cell_type": "code",
   "execution_count": 6,
   "metadata": {
    "hideCode": false,
    "hidePrompt": false
   },
   "outputs": [
    {
     "data": {
      "text/plain": [
       "date               datetime64[ns]\n",
       "total                     float64\n",
       "total_1unit               float64\n",
       "total_2to4units           float64\n",
       "total_5+units             float64\n",
       "ne_total                  float64\n",
       "ne_1unit                  float64\n",
       "mw_total                  float64\n",
       "mw_1unit                  float64\n",
       "south_total               float64\n",
       "south_1unit               float64\n",
       "west_total                float64\n",
       "west_1unit                float64\n",
       "dtype: object"
      ]
     },
     "execution_count": 6,
     "metadata": {},
     "output_type": "execute_result"
    }
   ],
   "source": [
    "permits_raw.dtypes"
   ]
  },
  {
   "cell_type": "code",
   "execution_count": 7,
   "metadata": {
    "hideCode": false,
    "hidePrompt": false
   },
   "outputs": [
    {
     "data": {
      "text/plain": [
       "(743, 13)"
      ]
     },
     "execution_count": 7,
     "metadata": {},
     "output_type": "execute_result"
    }
   ],
   "source": [
    "permits_raw.shape"
   ]
  },
  {
   "cell_type": "code",
   "execution_count": 8,
   "metadata": {
    "hideCode": false,
    "hidePrompt": false
   },
   "outputs": [
    {
     "data": {
      "text/html": [
       "<div>\n",
       "<style scoped>\n",
       "    .dataframe tbody tr th:only-of-type {\n",
       "        vertical-align: middle;\n",
       "    }\n",
       "\n",
       "    .dataframe tbody tr th {\n",
       "        vertical-align: top;\n",
       "    }\n",
       "\n",
       "    .dataframe thead th {\n",
       "        text-align: right;\n",
       "    }\n",
       "</style>\n",
       "<table border=\"1\" class=\"dataframe\">\n",
       "  <thead>\n",
       "    <tr style=\"text-align: right;\">\n",
       "      <th></th>\n",
       "      <th>total</th>\n",
       "      <th>total_1unit</th>\n",
       "      <th>total_2to4units</th>\n",
       "      <th>total_5+units</th>\n",
       "      <th>ne_total</th>\n",
       "      <th>ne_1unit</th>\n",
       "      <th>mw_total</th>\n",
       "      <th>mw_1unit</th>\n",
       "      <th>south_total</th>\n",
       "      <th>south_1unit</th>\n",
       "      <th>west_total</th>\n",
       "      <th>west_1unit</th>\n",
       "    </tr>\n",
       "  </thead>\n",
       "  <tbody>\n",
       "    <tr>\n",
       "      <th>count</th>\n",
       "      <td>743.000000</td>\n",
       "      <td>743.000000</td>\n",
       "      <td>743.000000</td>\n",
       "      <td>743.000000</td>\n",
       "      <td>743.000000</td>\n",
       "      <td>611.000000</td>\n",
       "      <td>743.000000</td>\n",
       "      <td>611.000000</td>\n",
       "      <td>743.000000</td>\n",
       "      <td>611.000000</td>\n",
       "      <td>743.000000</td>\n",
       "      <td>611.000000</td>\n",
       "    </tr>\n",
       "    <tr>\n",
       "      <th>mean</th>\n",
       "      <td>112.887483</td>\n",
       "      <td>73.926514</td>\n",
       "      <td>6.233109</td>\n",
       "      <td>32.729879</td>\n",
       "      <td>14.458546</td>\n",
       "      <td>8.535516</td>\n",
       "      <td>21.701615</td>\n",
       "      <td>14.428151</td>\n",
       "      <td>47.591655</td>\n",
       "      <td>34.672340</td>\n",
       "      <td>29.137147</td>\n",
       "      <td>19.438298</td>\n",
       "    </tr>\n",
       "    <tr>\n",
       "      <th>std</th>\n",
       "      <td>35.565104</td>\n",
       "      <td>26.738809</td>\n",
       "      <td>2.972394</td>\n",
       "      <td>15.547872</td>\n",
       "      <td>6.165800</td>\n",
       "      <td>3.986617</td>\n",
       "      <td>9.039670</td>\n",
       "      <td>6.948263</td>\n",
       "      <td>16.818737</td>\n",
       "      <td>12.472083</td>\n",
       "      <td>10.204002</td>\n",
       "      <td>7.735698</td>\n",
       "    </tr>\n",
       "    <tr>\n",
       "      <th>min</th>\n",
       "      <td>36.300000</td>\n",
       "      <td>22.100000</td>\n",
       "      <td>1.100000</td>\n",
       "      <td>7.500000</td>\n",
       "      <td>3.000000</td>\n",
       "      <td>1.700000</td>\n",
       "      <td>2.500000</td>\n",
       "      <td>1.400000</td>\n",
       "      <td>16.500000</td>\n",
       "      <td>10.900000</td>\n",
       "      <td>6.900000</td>\n",
       "      <td>4.100000</td>\n",
       "    </tr>\n",
       "    <tr>\n",
       "      <th>25%</th>\n",
       "      <td>89.650000</td>\n",
       "      <td>55.200000</td>\n",
       "      <td>3.900000</td>\n",
       "      <td>23.250000</td>\n",
       "      <td>10.200000</td>\n",
       "      <td>5.000000</td>\n",
       "      <td>14.400000</td>\n",
       "      <td>8.650000</td>\n",
       "      <td>34.700000</td>\n",
       "      <td>25.850000</td>\n",
       "      <td>22.200000</td>\n",
       "      <td>13.750000</td>\n",
       "    </tr>\n",
       "    <tr>\n",
       "      <th>50%</th>\n",
       "      <td>111.000000</td>\n",
       "      <td>69.700000</td>\n",
       "      <td>6.000000</td>\n",
       "      <td>30.500000</td>\n",
       "      <td>13.200000</td>\n",
       "      <td>8.400000</td>\n",
       "      <td>21.300000</td>\n",
       "      <td>13.300000</td>\n",
       "      <td>45.800000</td>\n",
       "      <td>33.500000</td>\n",
       "      <td>28.500000</td>\n",
       "      <td>18.900000</td>\n",
       "    </tr>\n",
       "    <tr>\n",
       "      <th>75%</th>\n",
       "      <td>135.700000</td>\n",
       "      <td>90.850000</td>\n",
       "      <td>7.800000</td>\n",
       "      <td>39.100000</td>\n",
       "      <td>18.400000</td>\n",
       "      <td>11.100000</td>\n",
       "      <td>28.500000</td>\n",
       "      <td>20.000000</td>\n",
       "      <td>59.050000</td>\n",
       "      <td>41.600000</td>\n",
       "      <td>35.750000</td>\n",
       "      <td>24.250000</td>\n",
       "    </tr>\n",
       "    <tr>\n",
       "      <th>max</th>\n",
       "      <td>214.600000</td>\n",
       "      <td>166.200000</td>\n",
       "      <td>16.100000</td>\n",
       "      <td>103.500000</td>\n",
       "      <td>33.700000</td>\n",
       "      <td>22.400000</td>\n",
       "      <td>47.400000</td>\n",
       "      <td>31.700000</td>\n",
       "      <td>101.600000</td>\n",
       "      <td>79.700000</td>\n",
       "      <td>74.700000</td>\n",
       "      <td>45.600000</td>\n",
       "    </tr>\n",
       "  </tbody>\n",
       "</table>\n",
       "</div>"
      ],
      "text/plain": [
       "            total  total_1unit  total_2to4units  total_5+units    ne_total  \\\n",
       "count  743.000000   743.000000       743.000000     743.000000  743.000000   \n",
       "mean   112.887483    73.926514         6.233109      32.729879   14.458546   \n",
       "std     35.565104    26.738809         2.972394      15.547872    6.165800   \n",
       "min     36.300000    22.100000         1.100000       7.500000    3.000000   \n",
       "25%     89.650000    55.200000         3.900000      23.250000   10.200000   \n",
       "50%    111.000000    69.700000         6.000000      30.500000   13.200000   \n",
       "75%    135.700000    90.850000         7.800000      39.100000   18.400000   \n",
       "max    214.600000   166.200000        16.100000     103.500000   33.700000   \n",
       "\n",
       "         ne_1unit    mw_total    mw_1unit  south_total  south_1unit  \\\n",
       "count  611.000000  743.000000  611.000000   743.000000   611.000000   \n",
       "mean     8.535516   21.701615   14.428151    47.591655    34.672340   \n",
       "std      3.986617    9.039670    6.948263    16.818737    12.472083   \n",
       "min      1.700000    2.500000    1.400000    16.500000    10.900000   \n",
       "25%      5.000000   14.400000    8.650000    34.700000    25.850000   \n",
       "50%      8.400000   21.300000   13.300000    45.800000    33.500000   \n",
       "75%     11.100000   28.500000   20.000000    59.050000    41.600000   \n",
       "max     22.400000   47.400000   31.700000   101.600000    79.700000   \n",
       "\n",
       "       west_total  west_1unit  \n",
       "count  743.000000  611.000000  \n",
       "mean    29.137147   19.438298  \n",
       "std     10.204002    7.735698  \n",
       "min      6.900000    4.100000  \n",
       "25%     22.200000   13.750000  \n",
       "50%     28.500000   18.900000  \n",
       "75%     35.750000   24.250000  \n",
       "max     74.700000   45.600000  "
      ]
     },
     "execution_count": 8,
     "metadata": {},
     "output_type": "execute_result"
    }
   ],
   "source": [
    "permits_raw.describe()"
   ]
  },
  {
   "cell_type": "code",
   "execution_count": 9,
   "metadata": {
    "hideCode": false,
    "hidePrompt": false
   },
   "outputs": [
    {
     "data": {
      "image/png": "[encoded data removed]",
      "text/plain": [
       "<Figure size 432x288 with 1 Axes>"
      ]
     },
     "metadata": {
      "needs_background": "light"
     },
     "output_type": "display_data"
    }
   ],
   "source": [
    "sns.lineplot(x='date',y='total',data=permits_raw);"
   ]
  },
  {
   "cell_type": "markdown",
   "metadata": {
    "hideCode": false,
    "hidePrompt": false
   },
   "source": [
    "### Orbit"
   ]
  },
  {
   "cell_type": "markdown",
   "metadata": {
    "hideCode": false,
    "hidePrompt": false
   },
   "source": [
    "#### Train and test sets , use the last 3 years to test the model"
   ]
  },
  {
   "cell_type": "code",
   "execution_count": 10,
   "metadata": {
    "hideCode": false,
    "hidePrompt": false
   },
   "outputs": [],
   "source": [
    "test_size = 36"
   ]
  },
  {
   "cell_type": "code",
   "execution_count": 11,
   "metadata": {
    "hideCode": false,
    "hidePrompt": false
   },
   "outputs": [],
   "source": [
    "train_df = permits_raw[:-test_size]\n",
    "test_df = permits_raw[-test_size:]"
   ]
  },
  {
   "cell_type": "markdown",
   "metadata": {
    "hideCode": false,
    "hidePrompt": false
   },
   "source": [
    "### Damped-Local-Trend (DLT) Model with FULL Bayesian Prediction"
   ]
  },
  {
   "cell_type": "markdown",
   "metadata": {
    "hideCode": false,
    "hidePrompt": false
   },
   "source": [
    "We instantiate a dlt model and fit it to the train data (all permit history except the last 3 years)"
   ]
  },
  {
   "cell_type": "code",
   "execution_count": 12,
   "metadata": {
    "hideCode": false,
    "hidePrompt": false
   },
   "outputs": [
    {
     "name": "stdout",
     "output_type": "stream",
     "text": [
      "no display found. Using non-interactive Agg backend\n"
     ]
    }
   ],
   "source": [
    "from orbit.models.dlt import DLTFull\n",
    "from orbit.diagnostics.plot import plot_predicted_data"
   ]
  },
  {
   "cell_type": "code",
   "execution_count": 13,
   "metadata": {
    "hideCode": false,
    "hidePrompt": false
   },
   "outputs": [
    {
     "name": "stderr",
     "output_type": "stream",
     "text": [
      "WARNING:pystan:Maximum (flat) parameter count (1000) exceeded: skipping diagnostic tests for n_eff and Rhat.\n",
      "To run all diagnostics call pystan.check_hmc_diagnostics(fit)\n"
     ]
    }
   ],
   "source": [
    "dlt = DLTFull(\n",
    "    response_col='total',\n",
    "    date_col='date',\n",
    "    #regressor_col=['trend.unemploy', 'trend.filling', 'trend.job'],\n",
    "    seasonality=12,\n",
    "    seed=2020,\n",
    "    global_trend_option = 'loglinear'\n",
    ")\n",
    "dlt.fit(df=train_df)"
   ]
  },
  {
   "cell_type": "markdown",
   "metadata": {
    "hideCode": false,
    "hidePrompt": false
   },
   "source": [
    "Now we generate predictions on the test data (the last 3 years)"
   ]
  },
  {
   "cell_type": "code",
   "execution_count": 14,
   "metadata": {
    "hideCode": false,
    "hidePrompt": false
   },
   "outputs": [
    {
     "name": "stderr",
     "output_type": "stream",
     "text": [
      "C:\\Users\\PabloT\\AppData\\Roaming\\Python\\Python37\\site-packages\\orbit\\diagnostics\\plot.py:114: UserWarning: Matplotlib is currently using agg, which is a non-GUI backend, so cannot show the figure.\n",
      "  plt.show()\n"
     ]
    },
    {
     "data": {
      "image/png": "[encoded data removed]",
      "text/plain": [
       "<Figure size 1152x576 with 1 Axes>"
      ]
     },
     "metadata": {},
     "output_type": "display_data"
    }
   ],
   "source": [
    "# predicted df\n",
    "predicted_df = dlt.predict(df=test_df)\n",
    "\n",
    "# plot predictions\n",
    "plot_predicted_data(\n",
    "    training_actual_df=train_df, predicted_df=predicted_df,\n",
    "    date_col=dlt.date_col, actual_col=dlt.response_col,\n",
    "    test_actual_df=test_df,title='Permits actuals and forecasts (3y)',\n",
    ");"
   ]
  },
  {
   "cell_type": "code",
   "execution_count": 15,
   "metadata": {},
   "outputs": [
    {
     "name": "stdout",
     "output_type": "stream",
     "text": [
      "Help on function plot_predicted_data in module orbit.diagnostics.plot:\n",
      "\n",
      "plot_predicted_data(training_actual_df, predicted_df, date_col, actual_col, pred_col='prediction', prediction_percentiles=None, title='', test_actual_df=None, is_visible=True, figsize=None, path=None)\n",
      "    plot training actual response together with predicted data; if actual response of predicted\n",
      "    data is there, plot it too.\n",
      "    Parameters\n",
      "    ----------\n",
      "    training_actual_df: pd.DataFrame\n",
      "        training actual response data frame. two columns required: actual_col and date_col\n",
      "    predicted_df: pd.DataFrame\n",
      "        predicted data response data frame. two columns required: actual_col and pred_col. If\n",
      "        user provide prediction_percentiles, it needs to include them as well in such\n",
      "        `prediction_{x}` where x is the correspodent percentiles\n",
      "    prediction_percentiles: list\n",
      "        list of two elements indicates the lower and upper percentiles\n",
      "    date_col: str\n",
      "        the date column name\n",
      "    actual_col: str\n",
      "    pred_col: str\n",
      "    title: str\n",
      "        title of the plot\n",
      "    test_actual_df: pd.DataFrame\n",
      "       test actual response dataframe. two columns required: actual_col and date_col\n",
      "    is_visible: boolean\n",
      "        whether we want to show the plot. If called from unittest, is_visible might = False.\n",
      "    figsize: tuple\n",
      "        figsize pass through to `matplotlib.pyplot.figure()`\n",
      "    path: str\n",
      "        path to save the figure\n",
      "    Returns\n",
      "    -------\n",
      "        None.\n",
      "\n"
     ]
    }
   ],
   "source": [
    "help(plot_predicted_data)"
   ]
  },
  {
   "cell_type": "code",
   "execution_count": 16,
   "metadata": {
    "hideCode": false,
    "hidePrompt": false
   },
   "outputs": [
    {
     "data": {
      "text/html": [
       "<div>\n",
       "<style scoped>\n",
       "    .dataframe tbody tr th:only-of-type {\n",
       "        vertical-align: middle;\n",
       "    }\n",
       "\n",
       "    .dataframe tbody tr th {\n",
       "        vertical-align: top;\n",
       "    }\n",
       "\n",
       "    .dataframe thead th {\n",
       "        text-align: right;\n",
       "    }\n",
       "</style>\n",
       "<table border=\"1\" class=\"dataframe\">\n",
       "  <thead>\n",
       "    <tr style=\"text-align: right;\">\n",
       "      <th></th>\n",
       "      <th>date</th>\n",
       "      <th>prediction_5</th>\n",
       "      <th>prediction</th>\n",
       "      <th>prediction_95</th>\n",
       "    </tr>\n",
       "  </thead>\n",
       "  <tbody>\n",
       "    <tr>\n",
       "      <th>31</th>\n",
       "      <td>2020-07-01</td>\n",
       "      <td>50.390395</td>\n",
       "      <td>110.019099</td>\n",
       "      <td>167.345482</td>\n",
       "    </tr>\n",
       "    <tr>\n",
       "      <th>32</th>\n",
       "      <td>2020-08-01</td>\n",
       "      <td>61.306325</td>\n",
       "      <td>120.894453</td>\n",
       "      <td>185.598219</td>\n",
       "    </tr>\n",
       "    <tr>\n",
       "      <th>33</th>\n",
       "      <td>2020-09-01</td>\n",
       "      <td>52.619422</td>\n",
       "      <td>115.601724</td>\n",
       "      <td>177.263727</td>\n",
       "    </tr>\n",
       "    <tr>\n",
       "      <th>34</th>\n",
       "      <td>2020-10-01</td>\n",
       "      <td>55.701272</td>\n",
       "      <td>118.141886</td>\n",
       "      <td>191.009949</td>\n",
       "    </tr>\n",
       "    <tr>\n",
       "      <th>35</th>\n",
       "      <td>2020-11-01</td>\n",
       "      <td>41.039118</td>\n",
       "      <td>107.267694</td>\n",
       "      <td>169.934134</td>\n",
       "    </tr>\n",
       "  </tbody>\n",
       "</table>\n",
       "</div>"
      ],
      "text/plain": [
       "         date  prediction_5  prediction  prediction_95\n",
       "31 2020-07-01     50.390395  110.019099     167.345482\n",
       "32 2020-08-01     61.306325  120.894453     185.598219\n",
       "33 2020-09-01     52.619422  115.601724     177.263727\n",
       "34 2020-10-01     55.701272  118.141886     191.009949\n",
       "35 2020-11-01     41.039118  107.267694     169.934134"
      ]
     },
     "execution_count": 16,
     "metadata": {},
     "output_type": "execute_result"
    }
   ],
   "source": [
    "predicted_df.tail()"
   ]
  },
  {
   "cell_type": "code",
   "execution_count": 17,
   "metadata": {
    "hideCode": false,
    "hidePrompt": false
   },
   "outputs": [
    {
     "data": {
      "text/html": [
       "<div>\n",
       "<style scoped>\n",
       "    .dataframe tbody tr th:only-of-type {\n",
       "        vertical-align: middle;\n",
       "    }\n",
       "\n",
       "    .dataframe tbody tr th {\n",
       "        vertical-align: top;\n",
       "    }\n",
       "\n",
       "    .dataframe thead th {\n",
       "        text-align: right;\n",
       "    }\n",
       "</style>\n",
       "<table border=\"1\" class=\"dataframe\">\n",
       "  <thead>\n",
       "    <tr style=\"text-align: right;\">\n",
       "      <th></th>\n",
       "      <th>date</th>\n",
       "      <th>total</th>\n",
       "      <th>total_1unit</th>\n",
       "      <th>total_2to4units</th>\n",
       "      <th>total_5+units</th>\n",
       "      <th>ne_total</th>\n",
       "      <th>ne_1unit</th>\n",
       "      <th>mw_total</th>\n",
       "      <th>mw_1unit</th>\n",
       "      <th>south_total</th>\n",
       "      <th>south_1unit</th>\n",
       "      <th>west_total</th>\n",
       "      <th>west_1unit</th>\n",
       "    </tr>\n",
       "  </thead>\n",
       "  <tbody>\n",
       "    <tr>\n",
       "      <th>738</th>\n",
       "      <td>2020-07-01</td>\n",
       "      <td>135.4</td>\n",
       "      <td>92.1</td>\n",
       "      <td>4.2</td>\n",
       "      <td>39.1</td>\n",
       "      <td>12.7</td>\n",
       "      <td>5.7</td>\n",
       "      <td>21.3</td>\n",
       "      <td>13.4</td>\n",
       "      <td>68.7</td>\n",
       "      <td>51.4</td>\n",
       "      <td>32.6</td>\n",
       "      <td>21.6</td>\n",
       "    </tr>\n",
       "    <tr>\n",
       "      <th>739</th>\n",
       "      <td>2020-08-01</td>\n",
       "      <td>126.2</td>\n",
       "      <td>89.9</td>\n",
       "      <td>4.6</td>\n",
       "      <td>31.7</td>\n",
       "      <td>9.9</td>\n",
       "      <td>5.2</td>\n",
       "      <td>17.6</td>\n",
       "      <td>12.6</td>\n",
       "      <td>68.4</td>\n",
       "      <td>51.1</td>\n",
       "      <td>30.3</td>\n",
       "      <td>21.0</td>\n",
       "    </tr>\n",
       "    <tr>\n",
       "      <th>740</th>\n",
       "      <td>2020-09-01</td>\n",
       "      <td>133.3</td>\n",
       "      <td>94.7</td>\n",
       "      <td>3.9</td>\n",
       "      <td>34.7</td>\n",
       "      <td>13.2</td>\n",
       "      <td>6.4</td>\n",
       "      <td>19.9</td>\n",
       "      <td>14.0</td>\n",
       "      <td>69.0</td>\n",
       "      <td>52.0</td>\n",
       "      <td>31.2</td>\n",
       "      <td>22.3</td>\n",
       "    </tr>\n",
       "    <tr>\n",
       "      <th>741</th>\n",
       "      <td>2020-10-01</td>\n",
       "      <td>132.9</td>\n",
       "      <td>95.3</td>\n",
       "      <td>5.2</td>\n",
       "      <td>32.5</td>\n",
       "      <td>11.5</td>\n",
       "      <td>5.5</td>\n",
       "      <td>21.1</td>\n",
       "      <td>13.8</td>\n",
       "      <td>68.7</td>\n",
       "      <td>53.5</td>\n",
       "      <td>31.7</td>\n",
       "      <td>22.6</td>\n",
       "    </tr>\n",
       "    <tr>\n",
       "      <th>742</th>\n",
       "      <td>2020-11-01</td>\n",
       "      <td>120.2</td>\n",
       "      <td>80.0</td>\n",
       "      <td>4.1</td>\n",
       "      <td>36.2</td>\n",
       "      <td>12.2</td>\n",
       "      <td>5.2</td>\n",
       "      <td>16.6</td>\n",
       "      <td>10.3</td>\n",
       "      <td>61.5</td>\n",
       "      <td>45.4</td>\n",
       "      <td>29.9</td>\n",
       "      <td>19.1</td>\n",
       "    </tr>\n",
       "  </tbody>\n",
       "</table>\n",
       "</div>"
      ],
      "text/plain": [
       "          date  total  total_1unit  total_2to4units  total_5+units  ne_total  \\\n",
       "738 2020-07-01  135.4         92.1              4.2           39.1      12.7   \n",
       "739 2020-08-01  126.2         89.9              4.6           31.7       9.9   \n",
       "740 2020-09-01  133.3         94.7              3.9           34.7      13.2   \n",
       "741 2020-10-01  132.9         95.3              5.2           32.5      11.5   \n",
       "742 2020-11-01  120.2         80.0              4.1           36.2      12.2   \n",
       "\n",
       "     ne_1unit  mw_total  mw_1unit  south_total  south_1unit  west_total  \\\n",
       "738       5.7      21.3      13.4         68.7         51.4        32.6   \n",
       "739       5.2      17.6      12.6         68.4         51.1        30.3   \n",
       "740       6.4      19.9      14.0         69.0         52.0        31.2   \n",
       "741       5.5      21.1      13.8         68.7         53.5        31.7   \n",
       "742       5.2      16.6      10.3         61.5         45.4        29.9   \n",
       "\n",
       "     west_1unit  \n",
       "738        21.6  \n",
       "739        21.0  \n",
       "740        22.3  \n",
       "741        22.6  \n",
       "742        19.1  "
      ]
     },
     "execution_count": 17,
     "metadata": {},
     "output_type": "execute_result"
    }
   ],
   "source": [
    "test_df.tail()"
   ]
  },
  {
   "cell_type": "markdown",
   "metadata": {
    "hideCode": false,
    "hidePrompt": false
   },
   "source": [
    "### Hold out Accuracy"
   ]
  },
  {
   "cell_type": "markdown",
   "metadata": {
    "hideCode": false,
    "hidePrompt": false
   },
   "source": [
    "Let's calculate the accuracy of the model in the test data (holdout = we didn't show it to the model , we created predictions)"
   ]
  },
  {
   "cell_type": "code",
   "execution_count": 18,
   "metadata": {
    "hideCode": false,
    "hidePrompt": false
   },
   "outputs": [
    {
     "data": {
      "text/html": [
       "<div>\n",
       "<style scoped>\n",
       "    .dataframe tbody tr th:only-of-type {\n",
       "        vertical-align: middle;\n",
       "    }\n",
       "\n",
       "    .dataframe tbody tr th {\n",
       "        vertical-align: top;\n",
       "    }\n",
       "\n",
       "    .dataframe thead th {\n",
       "        text-align: right;\n",
       "    }\n",
       "</style>\n",
       "<table border=\"1\" class=\"dataframe\">\n",
       "  <thead>\n",
       "    <tr style=\"text-align: right;\">\n",
       "      <th></th>\n",
       "      <th>date</th>\n",
       "      <th>prediction_5</th>\n",
       "      <th>prediction</th>\n",
       "      <th>prediction_95</th>\n",
       "      <th>total</th>\n",
       "    </tr>\n",
       "  </thead>\n",
       "  <tbody>\n",
       "    <tr>\n",
       "      <th>0</th>\n",
       "      <td>2019-12-01</td>\n",
       "      <td>46.459756</td>\n",
       "      <td>107.751518</td>\n",
       "      <td>152.981795</td>\n",
       "      <td>110.7</td>\n",
       "    </tr>\n",
       "    <tr>\n",
       "      <th>1</th>\n",
       "      <td>2020-01-01</td>\n",
       "      <td>31.468642</td>\n",
       "      <td>96.993852</td>\n",
       "      <td>142.809571</td>\n",
       "      <td>112.8</td>\n",
       "    </tr>\n",
       "    <tr>\n",
       "      <th>2</th>\n",
       "      <td>2020-02-01</td>\n",
       "      <td>45.114019</td>\n",
       "      <td>95.391894</td>\n",
       "      <td>152.903603</td>\n",
       "      <td>100.2</td>\n",
       "    </tr>\n",
       "    <tr>\n",
       "      <th>3</th>\n",
       "      <td>2020-03-01</td>\n",
       "      <td>54.703366</td>\n",
       "      <td>111.999007</td>\n",
       "      <td>177.372880</td>\n",
       "      <td>115.9</td>\n",
       "    </tr>\n",
       "    <tr>\n",
       "      <th>4</th>\n",
       "      <td>2020-04-01</td>\n",
       "      <td>53.893273</td>\n",
       "      <td>113.145608</td>\n",
       "      <td>175.027326</td>\n",
       "      <td>96.0</td>\n",
       "    </tr>\n",
       "    <tr>\n",
       "      <th>5</th>\n",
       "      <td>2020-05-01</td>\n",
       "      <td>62.893972</td>\n",
       "      <td>116.763768</td>\n",
       "      <td>190.877435</td>\n",
       "      <td>104.4</td>\n",
       "    </tr>\n",
       "    <tr>\n",
       "      <th>6</th>\n",
       "      <td>2020-06-01</td>\n",
       "      <td>71.125995</td>\n",
       "      <td>130.041442</td>\n",
       "      <td>182.669709</td>\n",
       "      <td>124.0</td>\n",
       "    </tr>\n",
       "    <tr>\n",
       "      <th>7</th>\n",
       "      <td>2020-07-01</td>\n",
       "      <td>50.390395</td>\n",
       "      <td>110.019099</td>\n",
       "      <td>167.345482</td>\n",
       "      <td>135.4</td>\n",
       "    </tr>\n",
       "    <tr>\n",
       "      <th>8</th>\n",
       "      <td>2020-08-01</td>\n",
       "      <td>61.306325</td>\n",
       "      <td>120.894453</td>\n",
       "      <td>185.598219</td>\n",
       "      <td>126.2</td>\n",
       "    </tr>\n",
       "    <tr>\n",
       "      <th>9</th>\n",
       "      <td>2020-09-01</td>\n",
       "      <td>52.619422</td>\n",
       "      <td>115.601724</td>\n",
       "      <td>177.263727</td>\n",
       "      <td>133.3</td>\n",
       "    </tr>\n",
       "    <tr>\n",
       "      <th>10</th>\n",
       "      <td>2020-10-01</td>\n",
       "      <td>55.701272</td>\n",
       "      <td>118.141886</td>\n",
       "      <td>191.009949</td>\n",
       "      <td>132.9</td>\n",
       "    </tr>\n",
       "    <tr>\n",
       "      <th>11</th>\n",
       "      <td>2020-11-01</td>\n",
       "      <td>41.039118</td>\n",
       "      <td>107.267694</td>\n",
       "      <td>169.934134</td>\n",
       "      <td>120.2</td>\n",
       "    </tr>\n",
       "  </tbody>\n",
       "</table>\n",
       "</div>"
      ],
      "text/plain": [
       "         date  prediction_5  prediction  prediction_95  total\n",
       "0  2019-12-01     46.459756  107.751518     152.981795  110.7\n",
       "1  2020-01-01     31.468642   96.993852     142.809571  112.8\n",
       "2  2020-02-01     45.114019   95.391894     152.903603  100.2\n",
       "3  2020-03-01     54.703366  111.999007     177.372880  115.9\n",
       "4  2020-04-01     53.893273  113.145608     175.027326   96.0\n",
       "5  2020-05-01     62.893972  116.763768     190.877435  104.4\n",
       "6  2020-06-01     71.125995  130.041442     182.669709  124.0\n",
       "7  2020-07-01     50.390395  110.019099     167.345482  135.4\n",
       "8  2020-08-01     61.306325  120.894453     185.598219  126.2\n",
       "9  2020-09-01     52.619422  115.601724     177.263727  133.3\n",
       "10 2020-10-01     55.701272  118.141886     191.009949  132.9\n",
       "11 2020-11-01     41.039118  107.267694     169.934134  120.2"
      ]
     },
     "execution_count": 18,
     "metadata": {},
     "output_type": "execute_result"
    }
   ],
   "source": [
    "results = pd.merge(predicted_df.iloc[24:36,:],test_df[['date','total']].iloc[24:36,:],how='inner',on='date')\n",
    "results"
   ]
  },
  {
   "cell_type": "code",
   "execution_count": 19,
   "metadata": {
    "hideCode": false,
    "hidePrompt": false
   },
   "outputs": [
    {
     "data": {
      "text/html": [
       "<div>\n",
       "<style scoped>\n",
       "    .dataframe tbody tr th:only-of-type {\n",
       "        vertical-align: middle;\n",
       "    }\n",
       "\n",
       "    .dataframe tbody tr th {\n",
       "        vertical-align: top;\n",
       "    }\n",
       "\n",
       "    .dataframe thead th {\n",
       "        text-align: right;\n",
       "    }\n",
       "</style>\n",
       "<table border=\"1\" class=\"dataframe\">\n",
       "  <thead>\n",
       "    <tr style=\"text-align: right;\">\n",
       "      <th></th>\n",
       "      <th>date</th>\n",
       "      <th>prediction_5</th>\n",
       "      <th>prediction</th>\n",
       "      <th>prediction_95</th>\n",
       "      <th>total</th>\n",
       "      <th>abs_error</th>\n",
       "    </tr>\n",
       "  </thead>\n",
       "  <tbody>\n",
       "    <tr>\n",
       "      <th>7</th>\n",
       "      <td>2020-07-01</td>\n",
       "      <td>50.390395</td>\n",
       "      <td>110.019099</td>\n",
       "      <td>167.345482</td>\n",
       "      <td>135.4</td>\n",
       "      <td>25.380901</td>\n",
       "    </tr>\n",
       "    <tr>\n",
       "      <th>8</th>\n",
       "      <td>2020-08-01</td>\n",
       "      <td>61.306325</td>\n",
       "      <td>120.894453</td>\n",
       "      <td>185.598219</td>\n",
       "      <td>126.2</td>\n",
       "      <td>5.305547</td>\n",
       "    </tr>\n",
       "    <tr>\n",
       "      <th>9</th>\n",
       "      <td>2020-09-01</td>\n",
       "      <td>52.619422</td>\n",
       "      <td>115.601724</td>\n",
       "      <td>177.263727</td>\n",
       "      <td>133.3</td>\n",
       "      <td>17.698276</td>\n",
       "    </tr>\n",
       "    <tr>\n",
       "      <th>10</th>\n",
       "      <td>2020-10-01</td>\n",
       "      <td>55.701272</td>\n",
       "      <td>118.141886</td>\n",
       "      <td>191.009949</td>\n",
       "      <td>132.9</td>\n",
       "      <td>14.758114</td>\n",
       "    </tr>\n",
       "    <tr>\n",
       "      <th>11</th>\n",
       "      <td>2020-11-01</td>\n",
       "      <td>41.039118</td>\n",
       "      <td>107.267694</td>\n",
       "      <td>169.934134</td>\n",
       "      <td>120.2</td>\n",
       "      <td>12.932306</td>\n",
       "    </tr>\n",
       "  </tbody>\n",
       "</table>\n",
       "</div>"
      ],
      "text/plain": [
       "         date  prediction_5  prediction  prediction_95  total  abs_error\n",
       "7  2020-07-01     50.390395  110.019099     167.345482  135.4  25.380901\n",
       "8  2020-08-01     61.306325  120.894453     185.598219  126.2   5.305547\n",
       "9  2020-09-01     52.619422  115.601724     177.263727  133.3  17.698276\n",
       "10 2020-10-01     55.701272  118.141886     191.009949  132.9  14.758114\n",
       "11 2020-11-01     41.039118  107.267694     169.934134  120.2  12.932306"
      ]
     },
     "execution_count": 19,
     "metadata": {},
     "output_type": "execute_result"
    }
   ],
   "source": [
    "results['abs_error'] = abs(results['total']-results['prediction'])\n",
    "results.tail()"
   ]
  },
  {
   "cell_type": "code",
   "execution_count": 20,
   "metadata": {
    "hideCode": false,
    "hidePrompt": false
   },
   "outputs": [],
   "source": [
    "smape = 2*sum(results['abs_error'])/(sum(results['total'])+sum(results['prediction']))\n",
    "accuracy = max(0,1-smape)"
   ]
  },
  {
   "cell_type": "code",
   "execution_count": 21,
   "metadata": {
    "hideCode": false,
    "hidePrompt": false
   },
   "outputs": [
    {
     "data": {
      "text/plain": [
       "(0.10093547730155399, 89.9064522698446)"
      ]
     },
     "execution_count": 21,
     "metadata": {},
     "output_type": "execute_result"
    }
   ],
   "source": [
    "smape,accuracy*100"
   ]
  },
  {
   "cell_type": "markdown",
   "metadata": {
    "hideCode": false,
    "hidePrompt": false
   },
   "source": [
    "Accuracy of ~90% in 12 months (each month is an error) is not bad at all"
   ]
  },
  {
   "cell_type": "markdown",
   "metadata": {
    "hideCode": false,
    "hidePrompt": false
   },
   "source": [
    "Now that we are comfortable with the accuracy of the model we fit a model to the entire permits data"
   ]
  },
  {
   "cell_type": "code",
   "execution_count": 22,
   "metadata": {
    "hideCode": false,
    "hidePrompt": false
   },
   "outputs": [
    {
     "name": "stderr",
     "output_type": "stream",
     "text": [
      "WARNING:pystan:Maximum (flat) parameter count (1000) exceeded: skipping diagnostic tests for n_eff and Rhat.\n",
      "To run all diagnostics call pystan.check_hmc_diagnostics(fit)\n"
     ]
    }
   ],
   "source": [
    "dlt_final = DLTFull(\n",
    "    response_col='total',\n",
    "    date_col='date',\n",
    "    #regressor_col=['trend.unemploy', 'trend.filling', 'trend.job'],\n",
    "    seasonality=12,\n",
    "    global_trend_option = 'loglinear'\n",
    ")\n",
    "dlt_final.fit(df=permits_raw[['date','total']])"
   ]
  },
  {
   "cell_type": "markdown",
   "metadata": {
    "hideCode": false,
    "hidePrompt": false
   },
   "source": [
    "In order to forecast into the future I need a data set of future dates"
   ]
  },
  {
   "cell_type": "code",
   "execution_count": 23,
   "metadata": {
    "hideCode": false,
    "hidePrompt": false
   },
   "outputs": [],
   "source": [
    "future_df = pd.DataFrame(data= pd.date_range('2020-12-01','2022-01-01',freq='MS'),columns=['date'])"
   ]
  },
  {
   "cell_type": "code",
   "execution_count": 24,
   "metadata": {
    "hideCode": false,
    "hidePrompt": false
   },
   "outputs": [
    {
     "data": {
      "text/html": [
       "<div>\n",
       "<style scoped>\n",
       "    .dataframe tbody tr th:only-of-type {\n",
       "        vertical-align: middle;\n",
       "    }\n",
       "\n",
       "    .dataframe tbody tr th {\n",
       "        vertical-align: top;\n",
       "    }\n",
       "\n",
       "    .dataframe thead th {\n",
       "        text-align: right;\n",
       "    }\n",
       "</style>\n",
       "<table border=\"1\" class=\"dataframe\">\n",
       "  <thead>\n",
       "    <tr style=\"text-align: right;\">\n",
       "      <th></th>\n",
       "      <th>date</th>\n",
       "      <th>prediction_5</th>\n",
       "      <th>prediction</th>\n",
       "      <th>prediction_95</th>\n",
       "    </tr>\n",
       "  </thead>\n",
       "  <tbody>\n",
       "    <tr>\n",
       "      <th>9</th>\n",
       "      <td>2021-09-01</td>\n",
       "      <td>100.870574</td>\n",
       "      <td>130.200852</td>\n",
       "      <td>164.260011</td>\n",
       "    </tr>\n",
       "    <tr>\n",
       "      <th>10</th>\n",
       "      <td>2021-10-01</td>\n",
       "      <td>102.066145</td>\n",
       "      <td>138.582265</td>\n",
       "      <td>172.746540</td>\n",
       "    </tr>\n",
       "    <tr>\n",
       "      <th>11</th>\n",
       "      <td>2021-11-01</td>\n",
       "      <td>83.505694</td>\n",
       "      <td>122.170990</td>\n",
       "      <td>158.886812</td>\n",
       "    </tr>\n",
       "    <tr>\n",
       "      <th>12</th>\n",
       "      <td>2021-12-01</td>\n",
       "      <td>82.821620</td>\n",
       "      <td>116.866721</td>\n",
       "      <td>153.472812</td>\n",
       "    </tr>\n",
       "    <tr>\n",
       "      <th>13</th>\n",
       "      <td>2022-01-01</td>\n",
       "      <td>73.264279</td>\n",
       "      <td>120.763965</td>\n",
       "      <td>153.317973</td>\n",
       "    </tr>\n",
       "  </tbody>\n",
       "</table>\n",
       "</div>"
      ],
      "text/plain": [
       "         date  prediction_5  prediction  prediction_95\n",
       "9  2021-09-01    100.870574  130.200852     164.260011\n",
       "10 2021-10-01    102.066145  138.582265     172.746540\n",
       "11 2021-11-01     83.505694  122.170990     158.886812\n",
       "12 2021-12-01     82.821620  116.866721     153.472812\n",
       "13 2022-01-01     73.264279  120.763965     153.317973"
      ]
     },
     "execution_count": 24,
     "metadata": {},
     "output_type": "execute_result"
    }
   ],
   "source": [
    "# predicted future\n",
    "predicted_df_final = dlt_final.predict(df=future_df)\n",
    "predicted_df_final.tail()"
   ]
  },
  {
   "cell_type": "code",
   "execution_count": 25,
   "metadata": {
    "hideCode": false,
    "hidePrompt": false
   },
   "outputs": [
    {
     "data": {
      "image/png": "[encoded data removed]",
      "text/plain": [
       "<Figure size 432x288 with 1 Axes>"
      ]
     },
     "metadata": {
      "needs_background": "light"
     },
     "output_type": "display_data"
    }
   ],
   "source": [
    "sns.lineplot(x='date',y='prediction',data=predicted_df_final);"
   ]
  },
  {
   "cell_type": "markdown",
   "metadata": {
    "hideCode": false,
    "hidePrompt": false
   },
   "source": [
    "## Final table \n",
    "\n",
    "Here I create a final data set with the actuals and the forecasts"
   ]
  },
  {
   "cell_type": "code",
   "execution_count": 26,
   "metadata": {
    "hideCode": false,
    "hidePrompt": false
   },
   "outputs": [
    {
     "data": {
      "text/html": [
       "<div>\n",
       "<style scoped>\n",
       "    .dataframe tbody tr th:only-of-type {\n",
       "        vertical-align: middle;\n",
       "    }\n",
       "\n",
       "    .dataframe tbody tr th {\n",
       "        vertical-align: top;\n",
       "    }\n",
       "\n",
       "    .dataframe thead th {\n",
       "        text-align: right;\n",
       "    }\n",
       "</style>\n",
       "<table border=\"1\" class=\"dataframe\">\n",
       "  <thead>\n",
       "    <tr style=\"text-align: right;\">\n",
       "      <th></th>\n",
       "      <th>date</th>\n",
       "      <th>total</th>\n",
       "      <th>series</th>\n",
       "    </tr>\n",
       "  </thead>\n",
       "  <tbody>\n",
       "    <tr>\n",
       "      <th>0</th>\n",
       "      <td>1959-01-01</td>\n",
       "      <td>75.7</td>\n",
       "      <td>actuals</td>\n",
       "    </tr>\n",
       "    <tr>\n",
       "      <th>1</th>\n",
       "      <td>1959-02-01</td>\n",
       "      <td>79.0</td>\n",
       "      <td>actuals</td>\n",
       "    </tr>\n",
       "    <tr>\n",
       "      <th>2</th>\n",
       "      <td>1959-03-01</td>\n",
       "      <td>119.0</td>\n",
       "      <td>actuals</td>\n",
       "    </tr>\n",
       "    <tr>\n",
       "      <th>3</th>\n",
       "      <td>1959-04-01</td>\n",
       "      <td>127.9</td>\n",
       "      <td>actuals</td>\n",
       "    </tr>\n",
       "    <tr>\n",
       "      <th>4</th>\n",
       "      <td>1959-05-01</td>\n",
       "      <td>120.8</td>\n",
       "      <td>actuals</td>\n",
       "    </tr>\n",
       "  </tbody>\n",
       "</table>\n",
       "</div>"
      ],
      "text/plain": [
       "        date  total   series\n",
       "0 1959-01-01   75.7  actuals\n",
       "1 1959-02-01   79.0  actuals\n",
       "2 1959-03-01  119.0  actuals\n",
       "3 1959-04-01  127.9  actuals\n",
       "4 1959-05-01  120.8  actuals"
      ]
     },
     "execution_count": 26,
     "metadata": {},
     "output_type": "execute_result"
    }
   ],
   "source": [
    "predicted_df_final['series'] = 'forecast'\n",
    "predicted_df_final['total'] = predicted_df_final['prediction']\n",
    "permits_raw['series'] = 'actuals'\n",
    "permits_total = permits_raw[['date','total','series']].append(predicted_df_final[['date','total','series']])\n",
    "permits_total.head()"
   ]
  },
  {
   "cell_type": "code",
   "execution_count": 27,
   "metadata": {
    "hideCode": false,
    "hidePrompt": false
   },
   "outputs": [
    {
     "data": {
      "image/png": "[encoded data removed]",
      "text/plain": [
       "<Figure size 432x288 with 1 Axes>"
      ]
     },
     "metadata": {
      "needs_background": "light"
     },
     "output_type": "display_data"
    }
   ],
   "source": [
    "sns.lineplot(x='date',y='total',hue='series',data=permits_total.query('date > \"2010-12-01\"'))\n",
    "plt.title('Permits actuals and forecast with Orbit DLT w/Bayesian');"
   ]
  },
  {
   "cell_type": "markdown",
   "metadata": {
    "hideCode": false,
    "hidePrompt": false
   },
   "source": [
    "### Write to csv"
   ]
  },
  {
   "cell_type": "code",
   "execution_count": 28,
   "metadata": {
    "hideCode": false,
    "hidePrompt": false
   },
   "outputs": [],
   "source": [
    "#permits_total.to_csv('results/permits_act_fct_orbit_dlt.csv',index=False)"
   ]
  },
  {
   "cell_type": "code",
   "execution_count": null,
   "metadata": {},
   "outputs": [],
   "source": []
  }
 ],
 "metadata": {
  "hide_code_all_hidden": false,
  "kernelspec": {
   "display_name": "Python 3",
   "language": "python",
   "name": "python3"
  },
  "language_info": {
   "codemirror_mode": {
    "name": "ipython",
    "version": 3
   },
   "file_extension": ".py",
   "mimetype": "text/x-python",
   "name": "python",
   "nbconvert_exporter": "python",
   "pygments_lexer": "ipython3",
   "version": "3.7.9"
  }
 },
 "nbformat": 4,
 "nbformat_minor": 4
}
